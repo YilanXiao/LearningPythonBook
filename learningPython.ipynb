{
 "cells": [
  {
   "cell_type": "code",
   "execution_count": 1,
   "metadata": {},
   "outputs": [],
   "source": [
    "import math"
   ]
  },
  {
   "cell_type": "markdown",
   "metadata": {},
   "source": [
    "import numpy as np"
   ]
  },
  {
   "cell_type": "code",
   "execution_count": 2,
   "metadata": {},
   "outputs": [
    {
     "data": {
      "text/plain": [
       "3.141592653589793"
      ]
     },
     "execution_count": 2,
     "metadata": {},
     "output_type": "execute_result"
    }
   ],
   "source": [
    "math.pi"
   ]
  },
  {
   "cell_type": "code",
   "execution_count": 3,
   "metadata": {},
   "outputs": [],
   "source": [
    "a = 3"
   ]
  },
  {
   "cell_type": "code",
   "execution_count": 4,
   "metadata": {},
   "outputs": [
    {
     "name": "stdout",
     "output_type": "stream",
     "text": [
      "hello world!\n"
     ]
    }
   ],
   "source": [
    "print(\"hello world!\")"
   ]
  },
  {
   "attachments": {},
   "cell_type": "markdown",
   "metadata": {},
   "source": [
    "# 26/06/2023 Monday "
   ]
  },
  {
   "attachments": {},
   "cell_type": "markdown",
   "metadata": {},
   "source": [
    "\n",
    "\n",
    "## Python Conceptual Hierarchy\n",
    "1. Programs are composed of modules\n",
    "2. Modules contain statements\n",
    "3. Statements contain expressions\n",
    "4. Expressions create and process objects\n",
    "\n",
    "\n",
    "**Part IV - Chapter 16 Function Basics**    \n",
    "\n",
    "## Function-related statements & expressions \n",
    "- Call expressions\n",
    "- def\n",
    "- return\n",
    "- global \n",
    "- nonlocal\n",
    "- yield\n",
    "- lambda\n",
    "\n",
    "## Why use functions? \n",
    "- maximising code reuse and minimising redundancy\n",
    "- procedural decomposition\n",
    "\n",
    "## def Statements \n",
    "- return statements: when reached it ends the dunction call and sends a result back to the callter\n",
    "- without return statements: function exit when the control flow falls off the end of the function body, return sends back a None which is usually omitted at the call\n"
   ]
  },
  {
   "attachments": {},
   "cell_type": "markdown",
   "metadata": {},
   "source": [
    "## Polymorphism in Python\n",
    "Polymorphism - the meaning of an operation depends on the objects being operated upon          \n",
    "Dynamically typed language python - every operation is polymorphic"
   ]
  },
  {
   "cell_type": "code",
   "execution_count": 5,
   "metadata": {},
   "outputs": [],
   "source": [
    "def times(x,y): \n",
    "    return x*y"
   ]
  },
  {
   "cell_type": "code",
   "execution_count": 6,
   "metadata": {},
   "outputs": [
    {
     "data": {
      "text/plain": [
       "6.283185307179586"
      ]
     },
     "execution_count": 6,
     "metadata": {},
     "output_type": "execute_result"
    }
   ],
   "source": [
    "from math import pi\n",
    "\n",
    "times(2,pi)"
   ]
  },
  {
   "cell_type": "code",
   "execution_count": 7,
   "metadata": {},
   "outputs": [
    {
     "data": {
      "text/plain": [
       "3144"
      ]
     },
     "execution_count": 7,
     "metadata": {},
     "output_type": "execute_result"
    }
   ],
   "source": [
    "times(1048,3)"
   ]
  },
  {
   "cell_type": "code",
   "execution_count": 10,
   "metadata": {},
   "outputs": [
    {
     "data": {
      "text/plain": [
       "'Hi Hi Hi Hi Hi Hi Hi Hi Hi Hi '"
      ]
     },
     "execution_count": 10,
     "metadata": {},
     "output_type": "execute_result"
    }
   ],
   "source": [
    "times('Hi ',10)"
   ]
  },
  {
   "attachments": {},
   "cell_type": "markdown",
   "metadata": {},
   "source": [
    "# 27/06/2023 Tuesday "
   ]
  },
  {
   "cell_type": "code",
   "execution_count": 1,
   "metadata": {},
   "outputs": [
    {
     "data": {
      "text/plain": [
       "['S', 'A', 'M']"
      ]
     },
     "execution_count": 1,
     "metadata": {},
     "output_type": "execute_result"
    }
   ],
   "source": [
    "s1 = \"SCAM\"\n",
    "s2 = \"SPAM\"\n",
    "[x for x in s1 if x in s2] # list comprehension checking for intersection"
   ]
  },
  {
   "attachments": {},
   "cell_type": "markdown",
   "metadata": {},
   "source": [
    "# 03/07/2023 Monday, 04/07/2023 Tuesday,\n",
    "**Chapter 17 Scopes** \n",
    "\n",
    "## Scope Basic\n",
    "- local\n",
    "- non-local\n",
    "- global\n",
    "\n",
    "## Lookup Procedure - LEGB rule\n",
    "Built-in <- global (module) <- enclosing function locals <- local (function)\n",
    "\n",
    "## Scope - built-in\n",
    "- the built-in scope: >>>import builtins >>>dir(builtins)\n",
    "- redefining bult-in names with local variable ... often causes bug\n",
    "## Scope - global\n",
    "- program design - minimise global variables\n",
    "\n",
    "## Scope - enclosing\n",
    "- nested functions -> sometimes more lightweight than classes\n",
    "- non-local scope \n",
    "## Scope - local\n",
    "\n",
    "## Retain state information in a python function\n",
    "- using non-local (python 3.0)\n",
    "- sharing global variables \n",
    "- use classes and OOP\n",
    "- state with function attributes"
   ]
  },
  {
   "attachments": {},
   "cell_type": "markdown",
   "metadata": {},
   "source": [
    "# 10/07/2023 Monday\n",
    "\n",
    "**Chapter 18 Arguments**\n",
    "\n",
    "## Argument-Passing basic\n",
    "Arguments are passed into a function by assignment - meaning object reference - meaning pointers.\n",
    "- arguments and shared references -> note: in-place object change\n",
    "- avoid mutable changes -> use immutable data types such as tuples\n",
    "- multiple results from function -> multiple outputs is actually one output as a tuple, then gets unpacked \n",
    "\n",
    "## Special Argument-Matching Modes\n",
    "- Postitions - left to right\n",
    "- Key words (matched by argument name) \n",
    "- default (key words must be before defaults in function def)\n",
    "- Arbitrary arguments\n",
    "- keyword only arguements\n",
    "\n"
   ]
  },
  {
   "cell_type": "markdown",
   "metadata": {},
   "source": [
    "# 18/07/2023 Tuesday\n",
    "**Chapter 19:Advanced Function Topics**\n",
    "## Function Design Concepts     \n",
    "    - inputs: \n",
    "        arguments\n",
    "        global variables\n",
    "        file/streams\n",
    "    - function (local variables)\n",
    "    - outputs:\n",
    "        return statements\n",
    "        mutable arguments\n",
    "        global variables\n",
    "        files/streams         \n",
    "    -> good function designers use only **arguments** for inputs and **return statements** for outputs whenever possible\n",
    "## Recursive Functions \n",
    "    - summations, handling arbitary structures e.g. trees \n",
    "## Function Objects: Attributes and Annotations\n",
    "## Anonymous Functions: the lambda expression\n",
    "## Functional Programming Tools: map, filter, reduce\n"
   ]
  },
  {
   "cell_type": "markdown",
   "metadata": {},
   "source": [
    "# 08/08/2023 Tuesday\n",
    "**Chapter 20:Comprehensions and Generations**"
   ]
  },
  {
   "cell_type": "code",
   "execution_count": null,
   "metadata": {},
   "outputs": [],
   "source": []
  }
 ],
 "metadata": {
  "kernelspec": {
   "display_name": "ts_pred",
   "language": "python",
   "name": "python3"
  },
  "language_info": {
   "codemirror_mode": {
    "name": "ipython",
    "version": 3
   },
   "file_extension": ".py",
   "mimetype": "text/x-python",
   "name": "python",
   "nbconvert_exporter": "python",
   "pygments_lexer": "ipython3",
   "version": "3.11.5"
  },
  "orig_nbformat": 4,
  "vscode": {
   "interpreter": {
    "hash": "1c11ff9d236b312779d50a4fee078497d2b558e5ea756136a1f49f4a2a13b357"
   }
  }
 },
 "nbformat": 4,
 "nbformat_minor": 2
}
