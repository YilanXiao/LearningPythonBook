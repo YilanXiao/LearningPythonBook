{
 "cells": [
  {
   "cell_type": "code",
   "execution_count": 1,
   "metadata": {},
   "outputs": [],
   "source": [
    "import math"
   ]
  },
  {
   "cell_type": "code",
   "execution_count": 2,
   "metadata": {},
   "outputs": [
    {
     "data": {
      "text/plain": [
       "3.141592653589793"
      ]
     },
     "execution_count": 2,
     "metadata": {},
     "output_type": "execute_result"
    }
   ],
   "source": [
    "math.pi"
   ]
  },
  {
   "cell_type": "code",
   "execution_count": 3,
   "metadata": {},
   "outputs": [],
   "source": [
    "a = 3"
   ]
  },
  {
   "cell_type": "code",
   "execution_count": 4,
   "metadata": {},
   "outputs": [
    {
     "name": "stdout",
     "output_type": "stream",
     "text": [
      "hello world!\n"
     ]
    }
   ],
   "source": [
    "print(\"hello world!\")"
   ]
  },
  {
   "attachments": {},
   "cell_type": "markdown",
   "metadata": {},
   "source": [
    "# 26/06/2023 Monday "
   ]
  },
  {
   "attachments": {},
   "cell_type": "markdown",
   "metadata": {},
   "source": [
    "\n",
    "\n",
    "## Python Conceptual Hierarchy\n",
    "1. Programs are composed of modules\n",
    "2. Modules contain statements\n",
    "3. Statements contain expressions\n",
    "4. Expressions create and process objects\n",
    "\n",
    "\n",
    "**Part IV - Chapter 16 Function Basics**    \n",
    "\n",
    "## Function-related statements & expressions \n",
    "- Call expressions\n",
    "- def\n",
    "- return\n",
    "- global \n",
    "- nonlocal\n",
    "- yield\n",
    "- lambda\n",
    "\n",
    "## Why use functions? \n",
    "- maximising code reuse and minimising redundancy\n",
    "- procedural decomposition\n",
    "\n",
    "## def Statements \n",
    "- return statements: when reached it ends the dunction call and sends a result back to the callter\n",
    "- without return statements: function exit when the control flow falls off the end of the function body, return sends back a None which is usually omitted at the call\n"
   ]
  },
  {
   "attachments": {},
   "cell_type": "markdown",
   "metadata": {},
   "source": [
    "## Polymorphism in Python\n",
    "Polymorphism - the meaning of an operation depends on the objects being operated upon          \n",
    "Dynamically typed language python - every operation is polymorphic"
   ]
  },
  {
   "cell_type": "code",
   "execution_count": 5,
   "metadata": {},
   "outputs": [],
   "source": [
    "def times(x,y): \n",
    "    return x*y"
   ]
  },
  {
   "cell_type": "code",
   "execution_count": 6,
   "metadata": {},
   "outputs": [
    {
     "data": {
      "text/plain": [
       "6.283185307179586"
      ]
     },
     "execution_count": 6,
     "metadata": {},
     "output_type": "execute_result"
    }
   ],
   "source": [
    "from math import pi\n",
    "\n",
    "times(2,pi)"
   ]
  },
  {
   "cell_type": "code",
   "execution_count": 7,
   "metadata": {},
   "outputs": [
    {
     "data": {
      "text/plain": [
       "3144"
      ]
     },
     "execution_count": 7,
     "metadata": {},
     "output_type": "execute_result"
    }
   ],
   "source": [
    "times(1048,3)"
   ]
  },
  {
   "cell_type": "code",
   "execution_count": 10,
   "metadata": {},
   "outputs": [
    {
     "data": {
      "text/plain": [
       "'Hi Hi Hi Hi Hi Hi Hi Hi Hi Hi '"
      ]
     },
     "execution_count": 10,
     "metadata": {},
     "output_type": "execute_result"
    }
   ],
   "source": [
    "times('Hi ',10)"
   ]
  },
  {
   "attachments": {},
   "cell_type": "markdown",
   "metadata": {},
   "source": [
    "# 27/06/2023 Tuesday "
   ]
  },
  {
   "cell_type": "code",
   "execution_count": 1,
   "metadata": {},
   "outputs": [
    {
     "data": {
      "text/plain": [
       "['S', 'A', 'M']"
      ]
     },
     "execution_count": 1,
     "metadata": {},
     "output_type": "execute_result"
    }
   ],
   "source": [
    "s1 = \"SCAM\"\n",
    "s2 = \"SPAM\"\n",
    "[x for x in s1 if x in s2] # list comprehension checking for intersection"
   ]
  },
  {
   "attachments": {},
   "cell_type": "markdown",
   "metadata": {},
   "source": [
    "# 03/07/2023 Monday, 04/07/2023 Tuesday,\n",
    "**Chapter 17 Scopes** \n",
    "\n",
    "## Scope Basic\n",
    "- local\n",
    "- non-local\n",
    "- global\n",
    "\n",
    "## Lookup Procedure - LEGB rule\n",
    "Built-in <- global (module) <- enclosing function locals <- local (function)\n",
    "\n",
    "## Scope - built-in\n",
    "- the built-in scope: >>>import builtins >>>dir(builtins)\n",
    "- redefining bult-in names with local variable ... often causes bug\n",
    "## Scope - global\n",
    "- program design - minimise global variables\n",
    "\n",
    "## Scope - enclosing\n",
    "- nested functions -> sometimes more lightweight than classes\n",
    "- non-local scope \n",
    "## Scope - local\n",
    "\n",
    "## Retain state information in a python function\n",
    "- using non-local (python 3.0)\n",
    "- sharing global variables \n",
    "- use classes and OOP\n",
    "- state with function attributes"
   ]
  },
  {
   "attachments": {},
   "cell_type": "markdown",
   "metadata": {},
   "source": [
    "# 10/07/2023 Monday\n",
    "\n",
    "**Chapter 18 Arguments**\n",
    "\n",
    "## Argument-Passing basic\n",
    "Arguments are passed into a function by assignment - meaning object reference - meaning pointers.\n",
    "- arguments and shared references -> note: in-place object change\n",
    "- avoid mutable changes -> use immutable data types such as tuples\n",
    "- multiple results from function -> multiple outputs is actually one output as a tuple, then gets unpacked \n",
    "\n",
    "## Special Argument-Matching Modes\n",
    "- Postitions - left to right\n",
    "- Key words (matched by argument name) \n",
    "- default (key words must be before defaults in function def)\n",
    "- Arbitrary arguments\n",
    "- keyword only arguements\n",
    "\n"
   ]
  },
  {
   "cell_type": "markdown",
   "metadata": {},
   "source": [
    "# 18/07/2023 Tuesday\n",
    "**Chapter 19:Advanced Function Topics**\n",
    "## Function Design Concepts     \n",
    "- inputs: \n",
    "    arguments\n",
    "    global variables\n",
    "    file/streams\n",
    "- function (local variables)\n",
    "    - outputs:\n",
    "    return statements\n",
    "    mutable arguments\n",
    "    global variables\n",
    "    files/streams         \n",
    "    -> good function designers use only **arguments** for inputs and **return statements** for outputs whenever possible\n",
    "## Recursive Functions \n",
    "- summations, handling arbitary structures e.g. trees \n",
    "## Function Objects: Attributes and Annotations\n",
    "## Anonymous Functions: the lambda expression\n",
    "## Functional Programming Tools: map, filter, reduce\n"
   ]
  },
  {
   "cell_type": "markdown",
   "metadata": {},
   "source": [
    "# 03/09/2023 Saturday\n",
    "**Chapter 20:Comprehensions and Generations**"
   ]
  },
  {
   "cell_type": "code",
   "execution_count": 3,
   "metadata": {},
   "outputs": [
    {
     "name": "stdout",
     "output_type": "stream",
     "text": [
      "False\n"
     ]
    }
   ],
   "source": [
    "str1 = \"ABABAB\"\n",
    "str2 = \"AB\"\n",
    "print(str1 in str2)"
   ]
  },
  {
   "cell_type": "code",
   "execution_count": 9,
   "metadata": {},
   "outputs": [
    {
     "data": {
      "text/plain": [
       "''"
      ]
     },
     "execution_count": 9,
     "metadata": {},
     "output_type": "execute_result"
    }
   ],
   "source": [
    "str1 = \"A\"\n",
    "str1[1:]"
   ]
  },
  {
   "cell_type": "code",
   "execution_count": 31,
   "metadata": {},
   "outputs": [],
   "source": [
    "def gcdOfStrings(str1: str, str2: str) -> str:\n",
    "    if len(str1) >=len(str2):\n",
    "        if str2 in str1:\n",
    "            if len(str2) % 2 == 1:\n",
    "                return str2 #needs fixing, str2 might be repeating itself\n",
    "            else:\n",
    "                gcm = str2\n",
    "                print(\"before while:\", len(gcm), gcm[:int(len(gcm)/2)], \" and \", gcm[int(len(gcm)/2):])\n",
    "                while len(gcm) > 2 and gcm[:int(len(gcm)/2)] == gcm[int(len(gcm)/2):]:\n",
    "                    gcm = gcm[:int(len(gcm)/2)]\n",
    "                    print(\"during while:\",gcm)\n",
    "                print(\"after while\")    \n",
    "                if gcm[0] == gcm[1]:\n",
    "                    return gcm[0]\n",
    "                else: \n",
    "                    return gcm\n",
    "\n",
    "        else:\n",
    "            return \"\"\n",
    "    else:\n",
    "        if str1 in str2:\n",
    "            return str1 # same as above\n",
    "        else:\n",
    "            return \"\""
   ]
  },
  {
   "cell_type": "code",
   "execution_count": 32,
   "metadata": {},
   "outputs": [
    {
     "name": "stdout",
     "output_type": "stream",
     "text": [
      "before while: 4 AB  and  AB\n",
      "during while: AB\n",
      "after while\n"
     ]
    },
    {
     "data": {
      "text/plain": [
       "'AB'"
      ]
     },
     "execution_count": 32,
     "metadata": {},
     "output_type": "execute_result"
    }
   ],
   "source": [
    "gcdOfStrings(str1=\"ABABAB\",str2=\"ABAB\")"
   ]
  },
  {
   "cell_type": "code",
   "execution_count": 33,
   "metadata": {},
   "outputs": [
    {
     "data": {
      "text/plain": [
       "1"
      ]
     },
     "execution_count": 33,
     "metadata": {},
     "output_type": "execute_result"
    }
   ],
   "source": [
    "int(3/2)"
   ]
  },
  {
   "cell_type": "code",
   "execution_count": 36,
   "metadata": {},
   "outputs": [
    {
     "name": "stdout",
     "output_type": "stream",
     "text": [
      "A  and  BC\n"
     ]
    }
   ],
   "source": [
    "str1 = \"ABC\"\n",
    "print(str1[:int(len(str1)/2)], \" and \", str1[int(len(str1)/2):])"
   ]
  },
  {
   "cell_type": "code",
   "execution_count": null,
   "metadata": {},
   "outputs": [],
   "source": [
    "class Solution:\n",
    "    def gcdOfStrings(self, str1: str, str2: str) -> str:\n",
    "        if len(str1) >=len(str2):\n",
    "            if str2 in str1:\n",
    "                if len(str2) % 2 == 1:\n",
    "                    return str2 #needs fixing, str2 might be repeating itself\n",
    "                else:\n",
    "                    gcm = str2\n",
    "                    while len(gcm) > 2 and gcm[:int(len(gcm)/2 )] == gcm[int(len(gcm)/2):]:\n",
    "                        gcm = gcm[:int(len(gcm)/2)]\n",
    "                        print(gcm)\n",
    "                    if gcm[0] == gcm[1]:\n",
    "                        return gcm[0]\n",
    "                    else: \n",
    "                        return gcm\n",
    "            else:\n",
    "                return \"\"\n",
    "        else:\n",
    "            if str1 in str2:\n",
    "                if len(str1) % 2 == 1:\n",
    "                    return str1\n",
    "                else:\n",
    "                    gcm = str1\n",
    "                    while len(gcm) > 2 and gcm[:int(len(gcm)/2 )] == gcm[int(len(gcm)/2):]:\n",
    "                        gcm = gcm[:int(len(gcm)/2)]\n",
    "                        print(gcm)\n",
    "                    if gcm[0] == gcm[1]:\n",
    "                        return gcm[0]\n",
    "                    else: \n",
    "                        return gcm\n",
    "            else:\n",
    "                return \"\"\n"
   ]
  },
  {
   "cell_type": "code",
   "execution_count": 47,
   "metadata": {},
   "outputs": [],
   "source": [
    "def gcdOfStrings(str1: str, str2: str) -> str:\n",
    "    gcd1 = str1\n",
    "    gcd2 = str2\n",
    "    # find the gcd in str1 \n",
    "    \n",
    "    while len(gcd1) > 2 and gcd1[:int(len(gcd1)/2)] == gcd1[int(len(gcd1)/2)]:\n",
    "        gcd1 = gcd1[:int(len(gcd1)/2)]\n",
    "        print(\"inside while loop: \", gcd1)\n",
    "    if gcd1[0] == gcd1[1]:\n",
    "        gcd1 = gcd1[0]\n",
    "    # find the gcd in str2\n",
    "    print(\"gcd1 = \", gcd1)\n",
    "    # while len(gcd2) > 2 and gcd2[:int(len(gcd2)/2)] == gcd2[int(len(gcd2)/2)]:\n",
    "    #     gcd2 = gcd2[:int(len(gcd2)/2)]\n",
    "    # if gcd2[0] == gcd2[1]:\n",
    "    #     gcd2 = gcd2[0]\n",
    "    # print(\"gcd2 = \", gcd2)\n",
    "    # if gcd1 == gcd2:\n",
    "    #     return gcd1\n",
    "    # else:\n",
    "    #     return \"\""
   ]
  },
  {
   "cell_type": "code",
   "execution_count": 48,
   "metadata": {},
   "outputs": [
    {
     "name": "stdout",
     "output_type": "stream",
     "text": [
      "gcd1 =  ABCABC\n"
     ]
    }
   ],
   "source": [
    "gcdOfStrings(str1=\"ABCABC\", str2=\"ABC\")"
   ]
  },
  {
   "cell_type": "code",
   "execution_count": 66,
   "metadata": {},
   "outputs": [],
   "source": [
    "def gcdOfStrings(str1: str, str2: str) -> str:\n",
    "    # find the greatest common divider in str1\n",
    "    gcm1 = str1[0] # assuming str1 length more than 1\n",
    "    rep = 0\n",
    "    # sliding window to see if gcm repeats\n",
    "    # if no repeat, input string is the greatest common divisor\n",
    "    \n",
    "    # if repeats, how many times? \n",
    "    #   increase window size and check again\n",
    "    \n",
    "    for i in range(0,len(str1)):\n",
    "        if gcm1 == str1[i]:\n",
    "            rep += 1\n",
    "    print(\"rep:\",rep)\n",
    "    if rep == 0:\n",
    "        gcm1 = str1\n",
    "    else:\n",
    "        l = int(len(str1)/rep)\n",
    "        print(\"l:\",l)\n",
    "        gcm1 = str1[:l]\n",
    "        for j in range(1,rep):\n",
    "            print(\"l*j:\", int(l*j))\n",
    "            if gcm1 != str1[int(l*j):int(l*(j+1))]:\n",
    "                gcm1 = str1\n",
    "    print(gcm1)          \n",
    "        "
   ]
  },
  {
   "cell_type": "code",
   "execution_count": 67,
   "metadata": {},
   "outputs": [
    {
     "name": "stdout",
     "output_type": "stream",
     "text": [
      "rep: 3\n",
      "l: 2\n",
      "l*j: 2\n",
      "l*j: 4\n",
      "AB\n"
     ]
    }
   ],
   "source": [
    "gcdOfStrings(str1=\"ABABAB\",str2=\"ABAB\")"
   ]
  },
  {
   "cell_type": "code",
   "execution_count": 90,
   "metadata": {},
   "outputs": [],
   "source": [
    "class Solution:\n",
    "    def gcdOfStrings(self, str1: str, str2: str) -> str:\n",
    "        # find the greatest common divider in str1\n",
    "\n",
    "\n",
    "        \n",
    "        \n",
    "        gcm1 = str1[0] # assuming str1 length more than 1\n",
    "        gcm2 = str2[0]\n",
    "        rep1 = 1\n",
    "        rep2 = 1\n",
    "\n",
    "        for i in range(1,len(str1)):\n",
    "            if gcm1 == str1[i]:\n",
    "                rep1 += 1\n",
    "        if rep1 == 1:\n",
    "            gcm1 = str1\n",
    "        else:\n",
    "            gcm1 += str1[1]\n",
    "            l1 = int(len(str1)/(rep1))\n",
    "            gcm1 = str1[:l1]\n",
    "            for j in range(1,rep1):\n",
    "                if gcm1 != str1[int(l1*j):int(l1*(j+1))]:\n",
    "                    gcm1 = str1\n",
    "                    \n",
    "                    \n",
    "        for i in range(1,len(str2)):\n",
    "            if gcm2 == str2[i]:\n",
    "                rep2 += 1\n",
    "        if rep2 == 1:\n",
    "            gcm2 = str2\n",
    "        else:\n",
    "            l2 = int(len(str2)/(rep2))\n",
    "            gcm2 = str2[:l2]\n",
    "            for j in range(1,rep2):\n",
    "                if gcm2 != str2[int(l2*j):int(l2*(j+1))]:\n",
    "                    gcm2 = str2\n",
    "\n",
    "        \n",
    "        print(\"gcm1:\",gcm1)\n",
    "        print(\"gcm2:\",gcm2)\n",
    "\n",
    "        if gcm1 == gcm2:\n",
    "            if rep1 >= rep2:\n",
    "                if rep1%rep2 == 0:\n",
    "                    return str2\n",
    "                else:\n",
    "                    return gcm2\n",
    "            else:\n",
    "                if rep2%rep1 == 0:\n",
    "                    return str1\n",
    "                else:\n",
    "                    return gcm1                            \n",
    "        else:\n",
    "            return \"\""
   ]
  },
  {
   "cell_type": "code",
   "execution_count": null,
   "metadata": {},
   "outputs": [],
   "source": [
    "class Solution:\n",
    "    def gcdOfStrings(self, str1: str, str2: str) -> str:\n",
    "        # find the greatest common divider in str1\n",
    "        for i in range(0,len(str1)):\n",
    "            gcm1 = str1[:i+1]\n",
    "            l1 = len(gcm1)\n",
    "            rep1 = 1\n",
    "            for j in range(i,len(str1)/rep1):\n",
    "                if gcm1 == str1[int(l1*j):int(l1*(j+1))]:\n",
    "                    rep1+=1\n",
    "        \n",
    "        \n",
    "        gcm1 = str1[0] # assuming str1 length more than 1\n",
    "        gcm2 = str2[0]\n",
    "        rep1 = 1\n",
    "        rep2 = 1\n",
    "\n",
    "        for i in range(1,len(str1)):\n",
    "            if gcm1 == str1[i]:\n",
    "                rep1 += 1\n",
    "        if rep1 == 1:\n",
    "            gcm1 = str1\n",
    "        else:\n",
    "            gcm1 += str1[1]\n",
    "            l1 = int(len(str1)/(rep1))\n",
    "            gcm1 = str1[:l1]\n",
    "            for j in range(1,rep1):\n",
    "                if gcm1 != str1[int(l1*j):int(l1*(j+1))]:\n",
    "                    gcm1 = str1\n",
    "                    \n",
    "                    \n",
    "        for i in range(1,len(str2)):\n",
    "            if gcm2 == str2[i]:\n",
    "                rep2 += 1\n",
    "        if rep2 == 1:\n",
    "            gcm2 = str2\n",
    "        else:\n",
    "            l2 = int(len(str2)/(rep2))\n",
    "            gcm2 = str2[:l2]\n",
    "            for j in range(1,rep2):\n",
    "                if gcm2 != str2[int(l2*j):int(l2*(j+1))]:\n",
    "                    gcm2 = str2\n",
    "\n",
    "        \n",
    "        print(\"gcm1:\",gcm1)\n",
    "        print(\"gcm2:\",gcm2)\n",
    "\n",
    "        if gcm1 == gcm2:\n",
    "            if rep1 >= rep2:\n",
    "                if rep1%rep2 == 0:\n",
    "                    return str2\n",
    "                else:\n",
    "                    return gcm2\n",
    "            else:\n",
    "                if rep2%rep1 == 0:\n",
    "                    return str1\n",
    "                else:\n",
    "                    return gcm1                            \n",
    "        else:\n",
    "            return \"\""
   ]
  },
  {
   "cell_type": "code",
   "execution_count": 87,
   "metadata": {},
   "outputs": [
    {
     "name": "stdout",
     "output_type": "stream",
     "text": [
      "2\n"
     ]
    }
   ],
   "source": [
    "print(2%4)"
   ]
  },
  {
   "cell_type": "code",
   "execution_count": 91,
   "metadata": {},
   "outputs": [],
   "source": [
    "solution = Solution()"
   ]
  },
  {
   "cell_type": "code",
   "execution_count": 92,
   "metadata": {},
   "outputs": [
    {
     "name": "stdout",
     "output_type": "stream",
     "text": [
      "gcm1: AB\n",
      "gcm2: AB\n"
     ]
    },
    {
     "data": {
      "text/plain": [
       "'ABAB'"
      ]
     },
     "execution_count": 92,
     "metadata": {},
     "output_type": "execute_result"
    }
   ],
   "source": [
    "solution.gcdOfStrings(str1 = \"OBCNOOBCNOOBCNOOBCNOOBCNOOBCNOOBCNOOBCNO\", str2 = \"OBCNOOBCNOOBCNOOBCNOOBCNOOBCNOOBCNOOBCNOOBCNOOBCNOOBCNOOBCNOOBCNO\")"
   ]
  },
  {
   "cell_type": "code",
   "execution_count": 93,
   "metadata": {},
   "outputs": [
    {
     "name": "stdout",
     "output_type": "stream",
     "text": [
      "40\n"
     ]
    }
   ],
   "source": [
    "str1 = \"OBCNOOBCNOOBCNOOBCNOOBCNOOBCNOOBCNOOBCNO\"\n",
    "print(len(str1))"
   ]
  },
  {
   "cell_type": "code",
   "execution_count": 2,
   "metadata": {},
   "outputs": [],
   "source": [
    "class Solution:\n",
    "    def moveZeroes(self, nums: list[int]) -> None:\n",
    "        \"\"\"\n",
    "        Do not return anything, modify nums in-place instead.\n",
    "        \"\"\"\n",
    "        # max = len(nums) # maximum number of zeros\n",
    "        \n",
    "        # start from the beginning of the list\n",
    "        # if a zero is detected in the list\n",
    "        # delete the zero at the location\n",
    "        # (this changes the list index)\n",
    "        # zero counter +1\n",
    "        # \n",
    "        \n",
    "        # after scanning the list, add counter number of zeros at the end\n",
    "        \n",
    "        for i in range(len(nums)):\n",
    "            if nums[i] == 0:\n",
    "                nums[i:i+1]=[]\n",
    "                nums.append(0)\n",
    "                # start from the same location of the for loop again\n",
    "            \n",
    "            print(nums)"
   ]
  },
  {
   "cell_type": "code",
   "execution_count": 5,
   "metadata": {},
   "outputs": [],
   "source": [
    "class Solution:\n",
    "    def moveZeroes(self, nums: list[int]) -> None:\n",
    "        \"\"\"\n",
    "        Do not return anything, modify nums in-place instead.\n",
    "        \"\"\"\n",
    "        # max = len(nums) # maximum number of zeros\n",
    "        \n",
    "        # start from the beginning of the list\n",
    "        # if a zero is detected in the list\n",
    "        # delete the zero at the location\n",
    "        # (this changes the list index)\n",
    "        # zero counter +1\n",
    "        # \n",
    "        \n",
    "        # after scanning the list, add counter number of zeros at the end\n",
    "        i = 0\n",
    "        counter = 0\n",
    "        while(i < len(nums)):\n",
    "            if nums[i] == 0:\n",
    "                nums[i:i+1] = []\n",
    "                counter+=1\n",
    "            else:\n",
    "                i+=1\n",
    "        \n",
    "        nums[len(nums):] = [0]*counter"
   ]
  },
  {
   "cell_type": "code",
   "execution_count": 6,
   "metadata": {},
   "outputs": [],
   "source": [
    "solution = Solution()"
   ]
  },
  {
   "cell_type": "code",
   "execution_count": 7,
   "metadata": {},
   "outputs": [],
   "source": [
    "solution.moveZeroes([0,1,0,3,12])"
   ]
  },
  {
   "cell_type": "code",
   "execution_count": null,
   "metadata": {},
   "outputs": [],
   "source": []
  }
 ],
 "metadata": {
  "kernelspec": {
   "display_name": "ts_pred",
   "language": "python",
   "name": "python3"
  },
  "language_info": {
   "codemirror_mode": {
    "name": "ipython",
    "version": 3
   },
   "file_extension": ".py",
   "mimetype": "text/x-python",
   "name": "python",
   "nbconvert_exporter": "python",
   "pygments_lexer": "ipython3",
   "version": "3.9.7"
  },
  "orig_nbformat": 4,
  "vscode": {
   "interpreter": {
    "hash": "1c11ff9d236b312779d50a4fee078497d2b558e5ea756136a1f49f4a2a13b357"
   }
  }
 },
 "nbformat": 4,
 "nbformat_minor": 2
}
